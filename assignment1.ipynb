{
 "cells": [
  {
   "cell_type": "code",
   "execution_count": null,
   "id": "90dc1be6-4c73-4e30-b34f-54b3dda0520e",
   "metadata": {},
   "outputs": [],
   "source": [
    "class is not thing but it is type of class which is used to indicate the different type of class to avoid the complexcity of the programm"
   ]
  },
  {
   "cell_type": "code",
   "execution_count": 2,
   "id": "bff52703-cb2a-4ae7-b348-a380ced79fb4",
   "metadata": {},
   "outputs": [],
   "source": [
    "class amit:\n",
    "    def amit_x(self):\n",
    "        return \"amit is good boys\""
   ]
  },
  {
   "cell_type": "code",
   "execution_count": 3,
   "id": "04a10c67-2da4-43b4-b854-73e5b7ca6e37",
   "metadata": {},
   "outputs": [],
   "source": [
    "a=amit()"
   ]
  },
  {
   "cell_type": "code",
   "execution_count": 5,
   "id": "c0528708-f2d6-444e-8231-c41195332a82",
   "metadata": {},
   "outputs": [
    {
     "data": {
      "text/plain": [
       "'amit is good boys'"
      ]
     },
     "execution_count": 5,
     "metadata": {},
     "output_type": "execute_result"
    }
   ],
   "source": [
    "a.amit_x()"
   ]
  },
  {
   "cell_type": "code",
   "execution_count": null,
   "id": "7aac26a2-8405-40a8-9417-ec6e0795f8b8",
   "metadata": {},
   "outputs": [],
   "source": [
    "the pillar of oops are \n",
    "1. class\n",
    "2.varaible\n",
    "3.capsulation\n",
    "4.inheritance\n",
    "5.abstract"
   ]
  },
  {
   "cell_type": "code",
   "execution_count": null,
   "id": "1e92ea28-5fe5-4387-aeb1-0891ad1ece26",
   "metadata": {},
   "outputs": [],
   "source": [
    "__init__ is to do the construction of the coding."
   ]
  },
  {
   "cell_type": "code",
   "execution_count": null,
   "id": "94aaa2fd-e4d5-42d9-ab99-5bbb72946062",
   "metadata": {},
   "outputs": [],
   "source": [
    "self is used to indicate the pointer from where the data has to taken out. "
   ]
  },
  {
   "cell_type": "code",
   "execution_count": null,
   "id": "76a30956-5399-4cd6-9f2a-2fa7bba53c03",
   "metadata": {},
   "outputs": [],
   "source": [
    "inheritance is used to get the same data from the eariler to avoid using more coding and complexcity . "
   ]
  },
  {
   "cell_type": "code",
   "execution_count": 19,
   "id": "3e738e39-d90b-4471-a8a7-f71d4471a309",
   "metadata": {},
   "outputs": [],
   "source": [
    "class class1():\n",
    "    def class_details(self):\n",
    "        return \"hii\""
   ]
  },
  {
   "cell_type": "code",
   "execution_count": 20,
   "id": "3cc42ee7-f99f-4974-852e-7a8859a0253b",
   "metadata": {},
   "outputs": [],
   "source": [
    "class class2(class1):\n",
    "    def class_data(self):\n",
    "        return \"hii2\""
   ]
  },
  {
   "cell_type": "code",
   "execution_count": 21,
   "id": "d1eb13b8-9e65-418c-8b05-a4fcfd821089",
   "metadata": {},
   "outputs": [],
   "source": [
    "amit=class2()"
   ]
  },
  {
   "cell_type": "code",
   "execution_count": 25,
   "id": "e6d352f0-cbf6-4767-9721-63c78212388c",
   "metadata": {},
   "outputs": [
    {
     "ename": "NameError",
     "evalue": "name 'self' is not defined",
     "output_type": "error",
     "traceback": [
      "\u001b[0;31m---------------------------------------------------------------------------\u001b[0m",
      "\u001b[0;31mNameError\u001b[0m                                 Traceback (most recent call last)",
      "Cell \u001b[0;32mIn[25], line 1\u001b[0m\n\u001b[0;32m----> 1\u001b[0m amit\u001b[38;5;241m.\u001b[39mclass_details(\u001b[38;5;28;43mself\u001b[39;49m)\n",
      "\u001b[0;31mNameError\u001b[0m: name 'self' is not defined"
     ]
    }
   ],
   "source": [
    "amit.class_details(self)"
   ]
  },
  {
   "cell_type": "code",
   "execution_count": null,
   "id": "3a936685-abce-489b-9646-ec5eb051e8eb",
   "metadata": {},
   "outputs": [],
   "source": []
  },
  {
   "cell_type": "code",
   "execution_count": null,
   "id": "d1c86302-dc54-4b21-a772-ff0d2ee3ba73",
   "metadata": {},
   "outputs": [],
   "source": []
  }
 ],
 "metadata": {
  "kernelspec": {
   "display_name": "Python 3 (ipykernel)",
   "language": "python",
   "name": "python3"
  },
  "language_info": {
   "codemirror_mode": {
    "name": "ipython",
    "version": 3
   },
   "file_extension": ".py",
   "mimetype": "text/x-python",
   "name": "python",
   "nbconvert_exporter": "python",
   "pygments_lexer": "ipython3",
   "version": "3.10.8"
  }
 },
 "nbformat": 4,
 "nbformat_minor": 5
}
